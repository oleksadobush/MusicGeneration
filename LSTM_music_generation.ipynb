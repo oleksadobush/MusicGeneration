{
 "nbformat": 4,
 "nbformat_minor": 0,
 "metadata": {
  "colab": {
   "provenance": []
  },
  "kernelspec": {
   "name": "python3",
   "language": "python",
   "display_name": "Python 3 (ipykernel)"
  },
  "language_info": {
   "name": "python"
  },
  "accelerator": "GPU",
  "gpuClass": "standard"
 },
 "cells": [
  {
   "cell_type": "code",
   "source": [
    "import numpy as np\n",
    "\n",
    "data_path = './data/other/miscellaneous/piano/'"
   ],
   "metadata": {
    "id": "sBMyswjYwJJk",
    "ExecuteTime": {
     "start_time": "2023-05-25T14:57:02.534293Z",
     "end_time": "2023-05-25T14:57:02.705652Z"
    }
   },
   "execution_count": 1,
   "outputs": []
  },
  {
   "cell_type": "code",
   "source": [
    "import os\n",
    "import numpy\n",
    "from keras.utils import np_utils\n",
    "from keras import Sequential\n",
    "from keras.layers import LSTM, Dropout, Dense, Activation\n",
    "from keras.callbacks import ModelCheckpoint\n",
    "import pretty_midi\n",
    "from music21 import converter, instrument, note, stream, chord\n",
    "from pathlib import Path"
   ],
   "metadata": {
    "id": "HTrM_xvGruab",
    "ExecuteTime": {
     "start_time": "2023-05-25T14:57:06.391205Z",
     "end_time": "2023-05-25T14:57:12.086932Z"
    }
   },
   "execution_count": 2,
   "outputs": []
  },
  {
   "cell_type": "code",
   "source": [
    "def get_files(path):\n",
    "  fs = []\n",
    "  files = Path(path).rglob('*.mid')\n",
    "  for f in files:\n",
    "    path = f.resolve()\n",
    "    # print(path)\n",
    "    fs.append(str(path))\n",
    "  return fs\n",
    "\n",
    "def get_notes(file):\n",
    "  # print(file)\n",
    "  notes = []\n",
    "  try:\n",
    "    mf = pretty_midi.PrettyMIDI(file)\n",
    "    # print(mf)\n",
    "    instrument = mf.instruments[0]\n",
    "    # print(instrument.name)\n",
    "    prev_note = instrument.notes[0]\n",
    "    tmp = str(prev_note.pitch)\n",
    "    for note in instrument.notes[1:]:\n",
    "      if(prev_note.start == note.start):\n",
    "        tmp += '.' + str(note.pitch)\n",
    "      else:\n",
    "        notes.append(tmp)\n",
    "        tmp = str(note.pitch)\n",
    "      prev_note = note\n",
    "      notes.append(tmp)\n",
    "  except Exception as error:\n",
    "    print(error)\n",
    "  return numpy.array(notes)"
   ],
   "metadata": {
    "id": "vKpes2ZOxnbc",
    "ExecuteTime": {
     "start_time": "2023-05-25T14:57:12.078036Z",
     "end_time": "2023-05-25T14:57:12.087473Z"
    }
   },
   "execution_count": 3,
   "outputs": []
  },
  {
   "cell_type": "code",
   "source": [
    "music_files = get_files(data_path)\n",
    "print(len(music_files))"
   ],
   "metadata": {
    "colab": {
     "base_uri": "https://localhost:8080/"
    },
    "id": "_1207ZuFTuwA",
    "outputId": "ec4147f4-24a4-4bf6-bb28-6133303e1f51",
    "ExecuteTime": {
     "start_time": "2023-05-25T14:57:12.082086Z",
     "end_time": "2023-05-25T14:57:12.132867Z"
    }
   },
   "execution_count": 4,
   "outputs": [
    {
     "name": "stdout",
     "output_type": "stream",
     "text": [
      "720\n"
     ]
    }
   ]
  },
  {
   "cell_type": "code",
   "source": [
    "# notes_array = numpy.array([get_notes(i) for i in music_files[:300]], dtype=object)\n",
    "notes_array = numpy.array([get_notes(i) for i in music_files], dtype=object)"
   ],
   "metadata": {
    "colab": {
     "base_uri": "https://localhost:8080/"
    },
    "id": "xl_C8amWUr4D",
    "outputId": "cf710840-5d68-42fb-d37f-6761449c74b3",
    "ExecuteTime": {
     "start_time": "2023-05-25T14:57:12.135465Z",
     "end_time": "2023-05-25T14:57:23.961332Z"
    }
   },
   "execution_count": 5,
   "outputs": [
    {
     "name": "stderr",
     "output_type": "stream",
     "text": [
      "/Users/bearsafari/Documents/ML/project/venv/lib/python3.9/site-packages/pretty_midi/pretty_midi.py:100: RuntimeWarning: Tempo, Key or Time signature change events found on non-zero tracks.  This is not a valid type 0 or type 1 MIDI file.  Tempo, Key or Time Signature may be wrong.\n",
      "  warnings.warn(\n",
      "/Users/bearsafari/Documents/ML/project/venv/lib/python3.9/site-packages/pretty_midi/pretty_midi.py:100: RuntimeWarning: Tempo, Key or Time signature change events found on non-zero tracks.  This is not a valid type 0 or type 1 MIDI file.  Tempo, Key or Time Signature may be wrong.\n",
      "  warnings.warn(\n"
     ]
    },
    {
     "name": "stdout",
     "output_type": "stream",
     "text": [
      "data byte must be in range 0..127\n"
     ]
    }
   ]
  },
  {
   "cell_type": "code",
   "source": [
    "notes_ = [element for note_ in notes_array for element in note_]"
   ],
   "metadata": {
    "id": "D3d6Y9eMU7Zb",
    "ExecuteTime": {
     "start_time": "2023-05-25T14:57:24.014502Z",
     "end_time": "2023-05-25T14:57:24.068344Z"
    }
   },
   "execution_count": 6,
   "outputs": []
  },
  {
   "cell_type": "code",
   "source": [
    "n_vocab = len(set(notes_))\n",
    "sequence_length = 50\n",
    "# get all pitch names\n",
    "pitchnames = sorted(set(item for item in notes_))\n",
    "# create a dictionary to map pitches to integers\n",
    "note_to_int = dict((note, number) for number, note in enumerate(pitchnames))\n",
    "network_input = []\n",
    "network_output = []\n",
    "# create input sequences and the corresponding outputs\n",
    "for i in range(0, len(notes_) - sequence_length, 1):\n",
    "    sequence_in = notes_[i:i + sequence_length]\n",
    "    sequence_out = notes_[i + sequence_length]\n",
    "    network_input.append([note_to_int[char] for char in sequence_in])\n",
    "    network_output.append(note_to_int[sequence_out])\n",
    "n_patterns = len(network_input)\n",
    "# reshape the input into a format compatible with LSTM layers\n",
    "network_input = numpy.reshape(network_input, (n_patterns, sequence_length, 1))\n",
    "# normalize input\n",
    "network_input_norm = network_input / float(n_vocab)\n",
    "network_output = np_utils.to_categorical(network_output)"
   ],
   "metadata": {
    "id": "DvhZkVenwH5z",
    "ExecuteTime": {
     "start_time": "2023-05-25T14:57:24.175613Z",
     "end_time": "2023-05-25T14:57:29.608302Z"
    }
   },
   "execution_count": 7,
   "outputs": []
  },
  {
   "cell_type": "code",
   "source": [
    "from keras.utils import Sequence\n",
    "\n",
    "class DataGenerator(Sequence):\n",
    "    def __init__(self, x_set, y_set, batch_size):\n",
    "        self.x = x_set\n",
    "        self.y = y_set\n",
    "        self.batch_size = batch_size\n",
    "\n",
    "    def __len__(self):\n",
    "        return int(numpy.ceil(len(self.x) / float(self.batch_size)))\n",
    "\n",
    "    def __getitem__(self, idx):\n",
    "        x_batch = self.x[idx * self.batch_size:(idx+1) * self.batch_size]\n",
    "        y_batch = self.y[idx * self.batch_size:(idx+1) * self.batch_size]\n",
    "        return x_batch, y_batch\n",
    "\n",
    "batch_size = 512\n",
    "\n",
    "network_input_gen = DataGenerator(network_input_norm, network_output, batch_size)"
   ],
   "metadata": {
    "id": "rqkjAjG78zGj",
    "ExecuteTime": {
     "start_time": "2023-05-25T14:57:29.563675Z",
     "end_time": "2023-05-25T14:57:29.614326Z"
    }
   },
   "execution_count": 8,
   "outputs": []
  },
  {
   "cell_type": "code",
   "source": [
    "model = Sequential()\n",
    "model.add(LSTM(\n",
    "    512,\n",
    "    input_shape=(network_input_norm.shape[1], network_input_norm.shape[2]),\n",
    "    return_sequences=True\n",
    "))\n",
    "model.add(Dropout(0.3))\n",
    "model.add(LSTM(512, return_sequences=True))\n",
    "model.add(Dropout(0.3))\n",
    "model.add(LSTM(256))\n",
    "model.add(Dense(256))\n",
    "model.add(Dropout(0.3))\n",
    "model.add(Dense(n_vocab))\n",
    "model.add(Activation('softmax'))\n",
    "model.compile(loss='categorical_crossentropy', optimizer='rmsprop')"
   ],
   "metadata": {
    "id": "DgtpT1xM2JpW",
    "ExecuteTime": {
     "start_time": "2023-05-25T14:57:29.597674Z",
     "end_time": "2023-05-25T14:57:30.772880Z"
    }
   },
   "execution_count": 9,
   "outputs": [
    {
     "name": "stdout",
     "output_type": "stream",
     "text": [
      "Metal device set to: Apple M1\n"
     ]
    }
   ]
  },
  {
   "cell_type": "code",
   "source": [
    "filepath = \"./weights-improvement-{epoch:02d}-{loss:.4f}-bigger.hdf5\"\n",
    "checkpoint = ModelCheckpoint(\n",
    "    filepath, monitor='loss', \n",
    "    verbose=0,        \n",
    "    save_best_only=True,\n",
    "    mode='min'\n",
    ")    \n",
    "callbacks_list = [checkpoint]     \n",
    "model.load_weights(\"./weights-improvement-13-3.3430-bigger.hdf5\")\n",
    "model.fit(network_input_gen, epochs=200, batch_size=batch_size, callbacks=callbacks_list)"
   ],
   "metadata": {
    "colab": {
     "base_uri": "https://localhost:8080/",
     "height": 1000
    },
    "id": "6AAElSET27WH",
    "outputId": "443ee330-5836-436a-e483-0f2822153362"
   },
   "execution_count": null,
   "outputs": [
    {
     "name": "stdout",
     "output_type": "stream",
     "text": [
      "Epoch 21/200\n"
     ]
    },
    {
     "name": "stderr",
     "output_type": "stream",
     "text": [
      "2023-05-24 00:47:41.330166: W tensorflow/tsl/platform/profile_utils/cpu_utils.cc:128] Failed to get CPU frequency: 0 Hz\n"
     ]
    },
    {
     "name": "stdout",
     "output_type": "stream",
     "text": [
      "1072/1114 [===========================>..] - ETA: 29s - loss: 3.5085"
     ]
    }
   ]
  },
  {
   "cell_type": "code",
   "source": [
    "model = Sequential()\n",
    "model.add(LSTM(\n",
    "    512,\n",
    "    input_shape=(network_input.shape[1], network_input.shape[2]),\n",
    "    return_sequences=True\n",
    "))\n",
    "model.add(Dropout(0.3))\n",
    "model.add(LSTM(512, return_sequences=True))\n",
    "model.add(Dropout(0.3))\n",
    "model.add(LSTM(256))\n",
    "model.add(Dense(256))\n",
    "model.add(Dropout(0.3))\n",
    "model.add(Dense(n_vocab))\n",
    "model.add(Activation('softmax'))\n",
    "model.compile(loss='categorical_crossentropy', optimizer='rmsprop')\n",
    "# Load the weights to each node\n",
    "f = \"./weights/weights-improvement-126-2.2941-bigger.hdf5\"\n",
    "model.load_weights(f)"
   ],
   "metadata": {
    "id": "mw_RFQi7_auO",
    "ExecuteTime": {
     "start_time": "2023-05-25T20:30:09.832402Z",
     "end_time": "2023-05-25T20:30:11.253694Z"
    }
   },
   "execution_count": 14,
   "outputs": []
  },
  {
   "cell_type": "code",
   "source": [
    "start = numpy.random.randint(0, len(network_input)-1)\n",
    "int_to_note = dict((number, note) for number, note in enumerate(pitchnames))\n",
    "print(start)\n",
    "pattern = network_input[start]\n",
    "# print(pattern)\n",
    "prediction_output = []\n",
    "# generate 500 notes\n",
    "last_index = 0\n",
    "for note_index in range(200):\n",
    "    # print(pattern)\n",
    "    prediction_input = numpy.reshape(pattern, (1, len(pattern), 1))\n",
    "    prediction_input = prediction_input / float(n_vocab)\n",
    "    # print(\"pred input\", prediction_input)\n",
    "    prediction = model.predict(prediction_input, verbose=0)\n",
    "    # print(numpy.sum(prediction))\n",
    "\n",
    "    # index = numpy.argmax(prediction)\n",
    "    # if index == last_index:\n",
    "    index = numpy.argsort(numpy.max(prediction, axis=0))[-numpy.random.randint(1, 4)]\n",
    "    last_index = index\n",
    "    result = int_to_note[index]\n",
    "    # print(index, result)\n",
    "    prediction_output.append(result)\n",
    "    pattern = numpy.append(pattern, index)\n",
    "    pattern = pattern[1:len(pattern)+1]"
   ],
   "metadata": {
    "id": "XTBAbp8_C73m",
    "outputId": "df0b0c7b-e8c9-4fea-8f20-64b020de9f0a",
    "colab": {
     "base_uri": "https://localhost:8080/"
    },
    "ExecuteTime": {
     "start_time": "2023-05-25T20:43:46.738122Z",
     "end_time": "2023-05-25T20:43:55.428056Z"
    }
   },
   "execution_count": 44,
   "outputs": [
    {
     "name": "stdout",
     "output_type": "stream",
     "text": [
      "68481\n"
     ]
    }
   ]
  },
  {
   "cell_type": "code",
   "source": [
    "from music21 import converter, instrument, note, stream, chord\n",
    "\n",
    "offset = 0\n",
    "output_notes = []\n",
    "print(prediction_output)\n",
    "# create note and chord objects based on the values generated by the model\n",
    "for pattern in prediction_output:\n",
    "    # pattern is a chord\n",
    "    if ('.' in pattern) or pattern.isdigit():\n",
    "        notes_in_chord = pattern.split('.')\n",
    "        notes = []\n",
    "        for current_note in notes_in_chord:\n",
    "            new_note = note.Note(int(current_note))\n",
    "            new_note.storedInstrument = instrument.Piano()\n",
    "            notes.append(new_note)\n",
    "        new_chord = chord.Chord(notes)\n",
    "        new_chord.offset = offset\n",
    "        output_notes.append(new_chord)\n",
    "    # pattern is a note\n",
    "    else:\n",
    "        new_note = note.Note(pattern)\n",
    "        new_note.offset = offset\n",
    "        new_note.storedInstrument = instrument.Piano()\n",
    "        output_notes.append(new_note)\n",
    "    # increase offset each iteration so that notes do not stack\n",
    "    offset += 0.5"
   ],
   "metadata": {
    "id": "PRSB-QKoC_M-",
    "outputId": "80f0d36b-dc36-4268-ed7b-8a7cac894023",
    "colab": {
     "base_uri": "https://localhost:8080/"
    },
    "ExecuteTime": {
     "start_time": "2023-05-25T20:43:55.432570Z",
     "end_time": "2023-05-25T20:43:55.442877Z"
    }
   },
   "execution_count": 45,
   "outputs": [
    {
     "name": "stdout",
     "output_type": "stream",
     "text": [
      "['50', '45', '50', '54', '57.62', '57', '62', '62', '69', '69.74', '69.81', '66', '66', '62', '69', '68', '65', '65.77', '43', '43', '72', '81', '78', '57', '57', '62', '60', '62', '60', '55', '56', '79', '79', '67', '68', '88', '88', '91', '95', '93', '95', '88', '88', '86', '85', '88', '85', '86', '88', '85', '86', '86', '86', '85', '85', '82', '82', '82', '83', '83', '84', '82', '55', '53', '50', '50', '51', '50', '79', '48', '48', '55', '55', '55', '50', '45', '48', '41', '45', '53', '54', '53', '46', '49', '47', '41', '47', '51', '51', '47', '47', '51', '50', '54', '54', '57', '57', '54', '55', '55', '52', '51', '52', '52', '48', '48', '51', '51', '54', '51', '54', '51', '51', '52', '52', '50', '48', '51', '50', '50', '50', '51', '51', '50', '50', '51', '53', '51', '50', '50', '51', '51', '48', '48', '48', '50', '48', '47', '50', '51', '48', '45', '45', '45', '47', '50', '50', '48', '47', '48', '51', '52', '52', '50', '47', '49', '51', '52.55', '50', '48', '47', '52', '52', '47', '46', '49', '49', '47', '47', '50', '54', '55.59', '53.58', '55', '53', '52', '53', '52', '52', '52', '54', '53', '55', '53', '55', '54', '50', '52', '52', '45', '45', '50', '47', '47', '48', '47', '47', '50', '50', '54']\n"
     ]
    }
   ]
  },
  {
   "cell_type": "code",
   "source": [
    "midi_stream = stream.Stream(output_notes)\n",
    "midi_stream.write('midi', fp='test_output12.mid')"
   ],
   "metadata": {
    "colab": {
     "base_uri": "https://localhost:8080/",
     "height": 36
    },
    "id": "YK0hc07YDB9v",
    "outputId": "36f85754-533f-429b-9a6d-169d5fc82b48",
    "ExecuteTime": {
     "start_time": "2023-05-25T20:43:55.494351Z",
     "end_time": "2023-05-25T20:43:55.500720Z"
    }
   },
   "execution_count": 46,
   "outputs": [
    {
     "data": {
      "text/plain": "'test_output12.mid'"
     },
     "execution_count": 46,
     "metadata": {},
     "output_type": "execute_result"
    }
   ]
  },
  {
   "cell_type": "code",
   "execution_count": null,
   "outputs": [],
   "source": [],
   "metadata": {
    "collapsed": false
   }
  }
 ]
}
